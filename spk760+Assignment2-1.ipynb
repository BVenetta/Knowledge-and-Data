{
 "cells": [
  {
   "cell_type": "markdown",
   "metadata": {},
   "source": [
    "# Knowledge and Data 2020: Practical Assignment 2\n",
    "## Manipulate local and external RDF Knowledge Graphs "
   ]
  },
  {
   "cell_type": "markdown",
   "metadata": {},
   "source": [
    "YOUR NAME: Seeun Park\n",
    "\n",
    "YOUR VUNetID: spk760\n",
    "\n",
    "*(If you do not provide your name and VUNetID we will not accept your submission).*"
   ]
  },
  {
   "cell_type": "markdown",
   "metadata": {},
   "source": [
    "### Learning objectives"
   ]
  },
  {
   "cell_type": "markdown",
   "metadata": {},
   "source": [
    "At the end of this exercise you should be able to perform some simple manipulations of RDF Data using the rdflib library. You should be able to: \n",
    "\n",
    "1. Add and retrieve information from a local RDF database\n",
    "2. Represent RDF data in other formats, such as the .dot format for graph visualisation\n",
    "3. Retrieve information from an RDF database created from Web Data\n",
    "4. Query information from the Web with SPARQL"
   ]
  },
  {
   "cell_type": "markdown",
   "metadata": {},
   "source": [
    "### Practicalities"
   ]
  },
  {
   "cell_type": "markdown",
   "metadata": {},
   "source": [
    "Follow this Notebook step-by-step. \n",
    "\n",
    "Of course, you can do the exercises in any Programming Editor of your liking. \n",
    "But you do not have to. Feel free to simply write code in the Notebook. When \n",
    "everything is filled in and works, save the Notebook and submit it \n",
    "as a Jupyter Notebook, i.e. with an .ipynb extension. Please use as name of the \n",
    "Notebook your studentID+Assignment2.ipynb.  \n",
    "\n",
    "Other than in courses dedicated to programming we will not evaluate the style\n",
    "of the programs. But we will test your programs on other data than we provide, \n",
    "and your program should give the correct answers to those test-data as well. "
   ]
  },
  {
   "cell_type": "markdown",
   "metadata": {},
   "source": [
    "# A. Tasks related to local RDF Knowledge Graphs"
   ]
  },
  {
   "cell_type": "markdown",
   "metadata": {},
   "source": [
    "This first cell will open a file 'example-from-slide.ttl' using the rdflib library. The first Practical Assignment should have taught you that manipulating symbols as strings is a major pain. \n",
    "\n",
    "Programming libraries, such as **rdflib**, help you with this mess once and for all, by parsing the files, creating appropriate datastructures (Graph()) and providing useful functions (such as serialize(), save() and much more). \n",
    "Check the website of rdflib http://rdflib.readthedocs.io/: this library does most of the hard work for you.\n",
    "\n",
    "Before starting with the tasks of this assignment, do not forget to install **rdflib** so we can start using it. Installing libraries in Python is very simple. Just open your terminal and write the following command:\n",
    "\n",
    "    $ pip install rdflib\n",
    "\n",
    "For more details on how to install pip and Python libraries, you can check the [preliminaries document](https://github.com/ucds-vu/knowledge-data-vu/blob/master/Tutorials/Preliminaries/preliminaries.md).  "
   ]
  },
  {
   "cell_type": "code",
   "execution_count": 1,
   "metadata": {},
   "outputs": [],
   "source": [
    "from rdflib import Graph, RDF, Namespace, Literal, URIRef, RDFS\n",
    "\n",
    "g = Graph()\n",
    "\n",
    "EX = Namespace('http://example.com/kad2020/')\n",
    "g.bind('ex',EX)\n",
    "\n",
    "def serialize_graph():\n",
    "    # g.serialize() returns a string\n",
    "    print(g.serialize(format='turtle'))\n",
    "\n",
    "def save_graph(filename):\n",
    "    with open(filename, 'w') as f:\n",
    "        g.serialize(f, format='nt')\n",
    "        \n",
    "def load_graph(filename):\n",
    "    with open(filename, 'r') as f:\n",
    "        g.parse(f, format='turtle')   "
   ]
  },
  {
   "cell_type": "markdown",
   "metadata": {},
   "source": [
    "The file 'example-from-slides.ttl' formalises the knowledge base from the slides from Module 1, and a bit more. \n",
    "\n",
    "Here is how it looks when you load it into your program and serialise it with rdflib in turtle. "
   ]
  },
  {
   "cell_type": "code",
   "execution_count": 2,
   "metadata": {},
   "outputs": [
    {
     "name": "stdout",
     "output_type": "stream",
     "text": [
      "@prefix ex: <http://example.com/kad2020/> .\n",
      "@prefix rdfs: <http://www.w3.org/2000/01/rdf-schema#> .\n",
      "\n",
      "ex:Germany a ex:EuropeanCountry .\n",
      "\n",
      "ex:Netherlands a ex:Country ;\n",
      "    ex:has_Capital ex:Amsterdam ;\n",
      "    ex:has_Name \"The Netherlands\" ;\n",
      "    ex:neighbours ex:Belgium .\n",
      "\n",
      "ex:hasCapital rdfs:range ex:Capital ;\n",
      "    rdfs:subPropertyOf ex:containsCity .\n",
      "\n",
      "ex:Amsterdam a ex:Capital .\n",
      "\n",
      "ex:Belgium a ex:Country .\n",
      "\n",
      "ex:EuropeanCountry rdfs:subClassOf ex:Country .\n",
      "\n",
      "ex:containsCity rdfs:domain ex:Country ;\n",
      "    rdfs:range ex:City .\n",
      "\n",
      "ex:Capital rdfs:subClassOf ex:City .\n",
      "\n",
      "\n"
     ]
    }
   ],
   "source": [
    "load_graph('example-from-slides.ttl')\n",
    "serialize_graph()"
   ]
  },
  {
   "cell_type": "markdown",
   "metadata": {},
   "source": [
    "Now, we can manipulate the graph very easily, e.g. like in the following very simple function, which returns the predicate(s) that relate a subject to a literal object: "
   ]
  },
  {
   "cell_type": "code",
   "execution_count": 3,
   "metadata": {
    "scrolled": true
   },
   "outputs": [
    {
     "name": "stdout",
     "output_type": "stream",
     "text": [
      "http://example.com/kad2020/has_Name\n"
     ]
    }
   ],
   "source": [
    "for s,p,o in g:\n",
    "    if type(o) is Literal:\n",
    "        print(p)"
   ]
  },
  {
   "cell_type": "markdown",
   "metadata": {},
   "source": [
    "### - Task 1: (1 Point) Add information to an RDF graph"
   ]
  },
  {
   "cell_type": "markdown",
   "metadata": {},
   "source": [
    "Add 10 triples to the knowledge graph. Make sure that they have the right namespaces. \n",
    "\n",
    "Similarily to the triples already present in the file 'example-from-slides.ttl', add at least:\n",
    "- a new country with its name and capital \n",
    "- one triple with a new predicate\n",
    "\n",
    "Check: http://rdflib.readthedocs.io/en/stable/intro_to_creating_rdf.html"
   ]
  },
  {
   "cell_type": "code",
   "execution_count": 4,
   "metadata": {},
   "outputs": [
    {
     "name": "stdout",
     "output_type": "stream",
     "text": [
      "@prefix ex: <http://example.com/kad2020/> .\n",
      "@prefix rdfs: <http://www.w3.org/2000/01/rdf-schema#> .\n",
      "\n",
      "ex:Germany a ex:EuropeanCountry .\n",
      "\n",
      "ex:Korea a ex:AsianCountry,\n",
      "        ex:Country ;\n",
      "    ex:airport_at ex:Incheon ;\n",
      "    ex:has_Capital ex:Seoul ;\n",
      "    ex:has_Name \"Korea\" ;\n",
      "    ex:in_continent ex:Asia ;\n",
      "    ex:neighbours ex:China,\n",
      "        ex:Japan .\n",
      "\n",
      "ex:Netherlands a ex:Country ;\n",
      "    ex:has_Capital ex:Amsterdam ;\n",
      "    ex:has_Name \"The Netherlands\" ;\n",
      "    ex:neighbours ex:Belgium .\n",
      "\n",
      "ex:hasCapital rdfs:range ex:Capital ;\n",
      "    rdfs:subPropertyOf ex:containsCity .\n",
      "\n",
      "ex:Amsterdam a ex:Capital .\n",
      "\n",
      "ex:Asia ex:has_Name \"Asia\" .\n",
      "\n",
      "ex:Belgium a ex:Country .\n",
      "\n",
      "ex:EuropeanCountry rdfs:subClassOf ex:Country .\n",
      "\n",
      "ex:Seoul ex:has_Name \"Seoul\" .\n",
      "\n",
      "ex:containsCity rdfs:domain ex:Country ;\n",
      "    rdfs:range ex:City .\n",
      "\n",
      "ex:Capital rdfs:subClassOf ex:City .\n",
      "\n",
      "\n"
     ]
    }
   ],
   "source": [
    "ex = Namespace(\"http://example.com/kad2020/\")\n",
    "owl = Namespace('http://www.w3.org/2002/07/owl#')\n",
    "\n",
    "# add 10 triples here to the graph 'g' (do not forget the namespaces).\n",
    "g.add((ex.Korea, RDF.type, ex.Country))\n",
    "g.add((ex.Korea, ex.has_Name, Literal(\"Korea\")))\n",
    "g.add((ex.Korea, ex.neighbours, ex.China))\n",
    "g.add((ex.Korea, ex.neighbours, ex.Japan))\n",
    "g.add((ex.Korea, ex.has_Capital, ex.Seoul))\n",
    "g.add((ex.Seoul, ex.has_Name, Literal(\"Seoul\")))\n",
    "g.add((ex.Korea, RDF.type, ex.AsianCountry))\n",
    "g.add((ex.Asia, ex.has_Name, Literal(\"Asia\")))\n",
    "\n",
    "#new predicates\n",
    "g.add((ex.Korea, ex.in_continent, ex.Asia))\n",
    "g.add((ex.Korea, ex.airport_at, ex.Incheon))\n",
    "\n",
    "serialize_graph()"
   ]
  },
  {
   "cell_type": "markdown",
   "metadata": {},
   "source": [
    "*After you ran the previous code (adding triples) the next cells will be executed on your extended graph. That is ok.*"
   ]
  },
  {
   "cell_type": "markdown",
   "metadata": {},
   "source": [
    "### - Task 2a: (1 Point) Get structured information from an RDF graph (all Literals)"
   ]
  },
  {
   "cell_type": "markdown",
   "metadata": {},
   "source": [
    "Use the functions available in the RDFLib library. Write a small function to print all Literals. \n",
    "\n",
    "Hint: there is a function in rdflib to test the type of an object (check previous examples in this notebook)"
   ]
  },
  {
   "cell_type": "code",
   "execution_count": 5,
   "metadata": {},
   "outputs": [
    {
     "name": "stdout",
     "output_type": "stream",
     "text": [
      "Seoul\n",
      "Asia\n",
      "Korea\n",
      "The Netherlands\n"
     ]
    }
   ],
   "source": [
    "for s,p,o in g:\n",
    "    if type(o) is Literal:\n",
    "        print(o)\n",
    "    pass"
   ]
  },
  {
   "cell_type": "markdown",
   "metadata": {},
   "source": [
    "### - Task 2b: (1 Point) Get structured information from an RDF graph (all unique Predicates)"
   ]
  },
  {
   "cell_type": "markdown",
   "metadata": {},
   "source": [
    "Please provide another function that gives a **unique** list of the predicates, ordered by occurrence (most occurring first). The answer will look like this: \n",
    "<br>http://www.w3.org/2000/01/rdf-schema#label\n",
    "<br>http://www.w3.org/1999/02/22-rdf-syntax-ns#type\n",
    "<br>http://example.com/sw2016/locatedIn\n",
    "<br>http://www.w3.org/2000/01/rdf-schema#range"
   ]
  },
  {
   "cell_type": "code",
   "execution_count": 6,
   "metadata": {},
   "outputs": [
    {
     "name": "stdout",
     "output_type": "stream",
     "text": [
      "http://www.w3.org/1999/02/22-rdf-syntax-ns#type\n",
      "http://example.com/kad2020/has_Name\n",
      "http://example.com/kad2020/neighbours\n",
      "http://www.w3.org/2000/01/rdf-schema#subClassOf\n",
      "http://example.com/kad2020/has_Capital\n",
      "http://www.w3.org/2000/01/rdf-schema#range\n",
      "http://www.w3.org/2000/01/rdf-schema#subPropertyOf\n",
      "http://example.com/kad2020/airport_at\n",
      "http://example.com/kad2020/in_continent\n",
      "http://www.w3.org/2000/01/rdf-schema#domain\n"
     ]
    }
   ],
   "source": [
    "predicate = []\n",
    "predicate_list = {}\n",
    "for s,p,o in g:\n",
    "    if p in predicate_list:\n",
    "        predicate_list[p] += 1\n",
    "    else:\n",
    "        predicate_list[p] = 1\n",
    "        predicate.append(p)\n",
    "sort = sorted(predicate_list.items(), key = lambda x: x[1], reverse = True)\n",
    "for i in sort:\n",
    "    print(i[0])"
   ]
  },
  {
   "cell_type": "markdown",
   "metadata": {},
   "source": [
    "# B. Tasks related to Graph visualisations "
   ]
  },
  {
   "cell_type": "markdown",
   "metadata": {},
   "source": [
    "### - Task 3a: (1 Point) From RDF to .dot \n"
   ]
  },
  {
   "cell_type": "markdown",
   "metadata": {},
   "source": [
    "In the lecture, we have seen two ways of writing a knowledge graph (simple n-triples, and simple turtle). Let us consider a 3rd syntax, this time a syntax that is useful for visualisation. One standard for visualising graphs is the .dot format.\n",
    "\n",
    "Print the knowledge graph in .dot file format. Check https://graphviz.gitlab.io/documentation/ for the documentation. You will only need very little of this information, and the most relevant information can be found in the examples that are given. \n",
    "\n",
    "<br>Basically, an RDF graph in .dot format starts with \n",
    "<br>digraph G { \n",
    "    and then a list of links of the following form \n",
    "<br>s -> o [label=\"p\"]\n",
    "    for every (s p o ) in KG (separated by ;\n",
    "<br>Do not forget to end with a closing bracket. }\n",
    "\n",
    "An example is \n",
    "     \n",
    "     digraph G { s1 -> o1 [label=\"p1\"] ; s2 -> o2 [label=\"p2\"] } \n",
    "     \n",
    "for an RDF graph {(s1 p1 o1),(s2 p2 o2)}\n",
    "\n",
    "*You can check how your graph looks like. Just copy & paste your output into: http://www.webgraphviz.com/*"
   ]
  },
  {
   "cell_type": "code",
   "execution_count": 7,
   "metadata": {},
   "outputs": [
    {
     "name": "stdout",
     "output_type": "stream",
     "text": [
      "digraph G {\n",
      "Seoul -> \"Seoul\" [label = \"has_Name\"]\n",
      "hasCapital -> containsCity [label = \"subPropertyOf\"]\n",
      "Netherlands -> Country [label = \"type\"]\n",
      "Korea -> Country [label = \"type\"]\n",
      "Korea -> Incheon [label = \"airport_at\"]\n",
      "Korea -> AsianCountry [label = \"type\"]\n",
      "Korea -> China [label = \"neighbours\"]\n",
      "EuropeanCountry -> Country [label = \"subClassOf\"]\n",
      "Germany -> EuropeanCountry [label = \"type\"]\n",
      "Asia -> \"Asia\" [label = \"has_Name\"]\n",
      "Amsterdam -> Capital [label = \"type\"]\n",
      "Netherlands -> Belgium [label = \"neighbours\"]\n",
      "Netherlands -> Amsterdam [label = \"has_Capital\"]\n",
      "Belgium -> Country [label = \"type\"]\n",
      "Korea -> \"Korea\" [label = \"has_Name\"]\n",
      "Capital -> City [label = \"subClassOf\"]\n",
      "Korea -> Asia [label = \"in_continent\"]\n",
      "containsCity -> City [label = \"range\"]\n",
      "Netherlands -> \"The Netherlands\" [label = \"has_Name\"]\n",
      "hasCapital -> Capital [label = \"range\"]\n",
      "Korea -> Seoul [label = \"has_Capital\"]\n",
      "containsCity -> Country [label = \"domain\"]\n",
      "Korea -> Japan [label = \"neighbours\"]\n",
      "}\n"
     ]
    }
   ],
   "source": [
    "print(\"digraph G {\")\n",
    "\n",
    "for s,p,o in g:\n",
    "    if type(o) == Literal:\n",
    "        o = '\"' + o + '\"'\n",
    "    new_s = s.split(\"/\")[-1]\n",
    "    new_p = p.split(\"/\")[-1].split(\"#\")[-1]\n",
    "    new_o = o.split(\"/\")[-1]\n",
    "    print(f'{new_s} -> {new_o} [label = \"{new_p}\"]')\n",
    "\n",
    "print(\"}\")    "
   ]
  },
  {
   "cell_type": "markdown",
   "metadata": {},
   "source": [
    "### - Task 3b: (1 Point) From RDF to .dot with \"semantic information\""
   ]
  },
  {
   "cell_type": "markdown",
   "metadata": {},
   "source": [
    "There is a conceptual distinction between properties, instances and classes (sets of instances). A simple way of checking is the following\n",
    "\n",
    "1. in a triple (s a o), with predicate a (which is a special abbreviation for the predicate rdf:type), the s is an Instance, and o is a Class. \n",
    "2. in a triple (s rdfs:subClassOf o) both s and o are Classes. \n",
    "3. in a triple (p rdfs:domain o) p is a Property and o is a Class. \n",
    "4. in a triple (p rdfs:range o)  p is a Property and o is a Class. \n",
    "\n",
    "Make a .dot representation for an RDF graph that distinguishes between types of links (RDF vocabulary vs others) and types of nodes (Classes versus Instances) via different colors. \n",
    "\n",
    "*You can check how your graph looks like. Just copy & paste your output into: http://www.webgraphviz.com/*"
   ]
  },
  {
   "cell_type": "code",
   "execution_count": 8,
   "metadata": {},
   "outputs": [
    {
     "name": "stdout",
     "output_type": "stream",
     "text": [
      "digraph G {\n",
      "Seoul -> \"Seoul\" [label=\"has_Name\"]\n",
      "hasCapital -> containsCity [label=\"subPropertyOf\"]\n",
      "Netherlands [color = \"Yellow\"]\n",
      "Country [color = \"Green\"]\n",
      "Netherlands -> Country [label=\"type\"]\n",
      "Korea [color = \"Yellow\"]\n",
      "Country [color = \"Green\"]\n",
      "Korea -> Country [label=\"type\"]\n",
      "Korea -> Incheon [label=\"airport_at\"]\n",
      "Korea [color = \"Yellow\"]\n",
      "AsianCountry [color = \"Green\"]\n",
      "Korea -> AsianCountry [label=\"type\"]\n",
      "Korea -> China [label=\"neighbours\"]\n",
      "EuropeanCountry [color = \"Yellow\"]\n",
      "Country [color = \"Green\"]\n",
      "EuropeanCountry -> Country [label=\"subClassOf\"]\n",
      "Germany [color = \"Yellow\"]\n",
      "EuropeanCountry [color = \"Green\"]\n",
      "Germany -> EuropeanCountry [label=\"type\"]\n",
      "Asia -> \"Asia\" [label=\"has_Name\"]\n",
      "Amsterdam [color = \"Yellow\"]\n",
      "Capital [color = \"Green\"]\n",
      "Amsterdam -> Capital [label=\"type\"]\n",
      "Netherlands -> Belgium [label=\"neighbours\"]\n",
      "Netherlands -> Amsterdam [label=\"has_Capital\"]\n",
      "Belgium [color = \"Yellow\"]\n",
      "Country [color = \"Green\"]\n",
      "Belgium -> Country [label=\"type\"]\n",
      "Korea -> \"Korea\" [label=\"has_Name\"]\n",
      "Capital [color = \"Yellow\"]\n",
      "City [color = \"Green\"]\n",
      "Capital -> City [label=\"subClassOf\"]\n",
      "Korea -> Asia [label=\"in_continent\"]\n",
      "containsCity [color = \"Purple\"]\n",
      "City [color = \"Green\"]\n",
      "containsCity -> City [label=\"range\"]\n",
      "Netherlands -> \"The Netherlands\" [label=\"has_Name\"]\n",
      "hasCapital [color = \"Purple\"]\n",
      "Capital [color = \"Green\"]\n",
      "hasCapital -> Capital [label=\"range\"]\n",
      "Korea -> Seoul [label=\"has_Capital\"]\n",
      "containsCity [color = \"Purple\"]\n",
      "Country [color = \"Green\"]\n",
      "containsCity -> Country [label=\"domain\"]\n",
      "Korea -> Japan [label=\"neighbours\"]\n",
      "}\n"
     ]
    }
   ],
   "source": [
    "\n",
    "print(\"digraph G {\")\n",
    "\n",
    "yellow = '[color = \"Yellow\"]'\n",
    "green = '[color = \"Green\"]'\n",
    "purple = '[color = \"Purple\"]'\n",
    "\n",
    "for s,p,o in g:\n",
    "    if type(o) == Literal:\n",
    "        o = '\"' + o + '\"'\n",
    "        \n",
    "    new_s = s.split('/')[-1]\n",
    "    new_p = p.split('/')[-1].split('#')[-1]\n",
    "    new_o = o.split('/')[-1]\n",
    "    \n",
    "    if p == RDFS.subClassOf:\n",
    "        print(new_s + \" \" + yellow)\n",
    "        print(new_o + \" \" + green)\n",
    "    \n",
    "    elif p == RDF.type:\n",
    "        print(new_s + \" \" + yellow)\n",
    "        print(new_o + \" \" + green)\n",
    "        \n",
    "    elif p == RDFS.range:\n",
    "        print(new_s + \" \" + purple)\n",
    "        print(new_o + \" \" + green)\n",
    "    \n",
    "    elif p == RDFS.domain:\n",
    "        print(new_s + \" \" + purple)\n",
    "        print(new_o + \" \" + green)\n",
    "        \n",
    "    print(f'{new_s} -> {new_o} [label=\"{new_p}\"]')\n",
    "print(\"}\")"
   ]
  },
  {
   "cell_type": "markdown",
   "metadata": {},
   "source": [
    "### - Task 4a: (1 Point) Deriving implicit knowledge (a bit of schema)\n",
    "\n",
    "We will look into Schema information in the latter modules, but let us try already to find some implicit information in a first bit of inferencing: whenever there are two statements (s a o) and (o rdfs:subClassOf o2) we can derive (and later prove) that (s a o2). \n",
    "\n",
    "Write a procedure that adds all implied triples to our knowledge graph. "
   ]
  },
  {
   "cell_type": "code",
   "execution_count": 15,
   "metadata": {},
   "outputs": [
    {
     "name": "stdout",
     "output_type": "stream",
     "text": [
      "[[rdflib.term.URIRef('http://example.com/kad2020/Netherlands'), rdflib.term.URIRef('http://www.w3.org/1999/02/22-rdf-syntax-ns#type'), rdflib.term.URIRef('http://example.com/kad2020/Country')], [rdflib.term.URIRef('http://example.com/kad2020/Korea'), rdflib.term.URIRef('http://www.w3.org/1999/02/22-rdf-syntax-ns#type'), rdflib.term.URIRef('http://example.com/kad2020/Country')], [rdflib.term.URIRef('http://example.com/kad2020/Korea'), rdflib.term.URIRef('http://www.w3.org/1999/02/22-rdf-syntax-ns#type'), rdflib.term.URIRef('http://example.com/kad2020/AsianCountry')], [rdflib.term.URIRef('http://example.com/kad2020/Germany'), rdflib.term.URIRef('http://www.w3.org/1999/02/22-rdf-syntax-ns#type'), rdflib.term.URIRef('http://example.com/kad2020/EuropeanCountry')], [rdflib.term.URIRef('http://example.com/kad2020/Amsterdam'), rdflib.term.URIRef('http://www.w3.org/1999/02/22-rdf-syntax-ns#type'), rdflib.term.URIRef('http://example.com/kad2020/Capital')], [rdflib.term.URIRef('http://example.com/kad2020/Belgium'), rdflib.term.URIRef('http://www.w3.org/1999/02/22-rdf-syntax-ns#type'), rdflib.term.URIRef('http://example.com/kad2020/Country')]]\n",
      "[[rdflib.term.URIRef('http://example.com/kad2020/EuropeanCountry'), rdflib.term.URIRef('http://www.w3.org/2000/01/rdf-schema#subClassOf'), rdflib.term.URIRef('http://example.com/kad2020/Country')], [rdflib.term.URIRef('http://example.com/kad2020/Capital'), rdflib.term.URIRef('http://www.w3.org/2000/01/rdf-schema#subClassOf'), rdflib.term.URIRef('http://example.com/kad2020/City')]]\n"
     ]
    }
   ],
   "source": [
    "main_list = []\n",
    "sub_list = []\n",
    "\n",
    "for s,p,o in g:\n",
    "    new_s = s.split('/')[-1]\n",
    "    new_p = p.split('/')[-1].split('#')[-1]\n",
    "    new_o = o.split('/')[-1]\n",
    "    \n",
    "    if p == RDF.type:\n",
    "        main_list.append([s,p,o])\n",
    "    elif p == RDFS.subClassOf:\n",
    "        sub_list.append([s,p,o])\n",
    "\n",
    "print(main_list)\n",
    "print(sub_list)"
   ]
  },
  {
   "cell_type": "markdown",
   "metadata": {},
   "source": [
    "### - Task 4b: (Optional - 1 Extra Point) Visualising implicit knowledge\n",
    "\n",
    "Produce a .dot version of the graph with those implies implicit triples, and mark the edges of those triples with a different color or arrow style. "
   ]
  },
  {
   "cell_type": "code",
   "execution_count": null,
   "metadata": {},
   "outputs": [],
   "source": [
    "# Your code here"
   ]
  },
  {
   "cell_type": "markdown",
   "metadata": {},
   "source": [
    "# C. Tasks related to local copies of external RDF Datasets using SPARQL"
   ]
  },
  {
   "cell_type": "markdown",
   "metadata": {},
   "source": [
    "Until now, we have manipulated local knowledge graphs, but as we claimed in the lectures, the advantage of knowledge graphs is that they can easily be linked with other datasets on the Web. \n",
    "\n",
    "In the remaining 3 tasks, we will manipulate data from the Web, and ask complex queries over this web data. \n",
    "\n",
    "In the first task, we will access web data, make a local copy of it, and then query it. In the other two tasks, we will query live data directly from web Knowledge Graphs (in this case, the SPARQL endpoint of DBPedia). "
   ]
  },
  {
   "cell_type": "markdown",
   "metadata": {},
   "source": [
    "### - Task 5: (1 Point) Show and manipulate data about RDF resources on the Web "
   ]
  },
  {
   "cell_type": "markdown",
   "metadata": {},
   "source": [
    "With rdflib we can easily load a local graph, but we can just as well retrieve a graph from the Web. Here, we will do so using the *requests* library, which allows us to fire a request to any server and/or SPARQL endpoint and to capture the response. The following snippet does so for the resource Amsterdam Dbpedia, by using the 'DESCRIBE' keyword to give us all triples about Amsterdam, and then loads it in a RDFlib Graph object."
   ]
  },
  {
   "cell_type": "code",
   "execution_count": null,
   "metadata": {},
   "outputs": [],
   "source": [
    "# install the library\n",
    "%pip install requests"
   ]
  },
  {
   "cell_type": "code",
   "execution_count": null,
   "metadata": {},
   "outputs": [],
   "source": [
    "import requests\n",
    "\n",
    "endpoint = \"https://dbpedia.org/sparql\"\n",
    "query = 'DESCRIBE <http://dbpedia.org/resource/Amsterdam>'\n",
    "\n",
    "payload = {'query':query, 'format':'text/turtle'}\n",
    "response = requests.post(endpoint, data = payload)\n",
    "\n",
    "g = Graph()\n",
    "g.parse(data=response.text, format='ttl')"
   ]
  },
  {
   "cell_type": "markdown",
   "metadata": {},
   "source": [
    "Now do the same for Rotterdam"
   ]
  },
  {
   "cell_type": "code",
   "execution_count": null,
   "metadata": {},
   "outputs": [],
   "source": [
    "query = 'DESCRIBE <http://dbpedia.org/resource/Rotterdam>'\n",
    "\n",
    "payload = {'query':query, 'format':'text/turtle'}\n",
    "response = requests.post(endpoint, data = payload)\n",
    "\n",
    "g.parse(data=response.text, format='ttl')  # calling parse again merges the graphs"
   ]
  },
  {
   "cell_type": "markdown",
   "metadata": {},
   "source": [
    "Let us start by showing diverse bits of information w.r.t  Amsterdam and Rotterdam in DBPedia. It is very similar to task 1, but now with Web Data. \n",
    "\n",
    "First, query the graph g (now containing the DBPedia information about Amsterdam and Rotterdam) and check whether you can find someone who was born in Amsterdam (is dbo:birthPlace of) and died in Rotterdam (is dbo:deathPlace of)?"
   ]
  },
  {
   "cell_type": "code",
   "execution_count": null,
   "metadata": {},
   "outputs": [],
   "source": [
    "qres = g.query(\n",
    "   \"\"\"\n",
    "    PREFIX dbr: <http://dbpedia.org/resource/>\n",
    "    PREFIX dbo: <http://dbpedia.org/ontology/>\n",
    "    SELECT ?s\n",
    "        WHERE {\n",
    "            ?s dbo:birthPlace dbr:Amsterdam .\n",
    "            ?s dbo:deathPlace dbr:Rotterdam .\n",
    "        }\n",
    "        LIMIT 10\n",
    "       \"\"\")\n",
    "for row in qres:\n",
    "    print(\"%s\" % row)"
   ]
  },
  {
   "cell_type": "markdown",
   "metadata": {},
   "source": [
    "Write a query to check whether there is an album that was recorded both in Rotterdam and Amsterdam? You need to look at the data to know which property you should check for. \n",
    "\n",
    "To get an intuition of what is in the knowledge graph you might want to look at the human readable rendering on : http://dbpedia.org/resource/Amsterdam"
   ]
  },
  {
   "cell_type": "code",
   "execution_count": null,
   "metadata": {
    "scrolled": true
   },
   "outputs": [],
   "source": [
    "qres = g.query(\n",
    "   \"\"\"\n",
    "    PREFIX dbr: <http://dbpedia.org/resource/>\n",
    "    PREFIX dbo: <http://dbpedia.org/ontology/>\n",
    "    SELECT ?s\n",
    "        WHERE {\n",
    "            ?s dbo:recordedIn dbr:Amsterdam .\n",
    "            ?s dbo:recordedIn dbr:Rotterdam .\n",
    "        }\n",
    "        LIMIT 10\n",
    "       \"\"\")\n",
    "for row in qres:\n",
    "    print(\"%s\" % row)"
   ]
  },
  {
   "cell_type": "markdown",
   "metadata": {},
   "source": [
    "### - Task 6: (2 Points) Ask SPARQL against live data using Yasgui\n",
    "\n",
    "Yasgui (http://yasgui.org/) is a nice graphical interface for asking queries.\n",
    "\n",
    "Run a new query against http://dbpedia.org/sparql that does the following:\n",
    "\n",
    "- Find all languages spoken in countries that are not official languages of that country\n",
    "- The query should return two colums: the country, and the number of languages.\n",
    "- Order the countries by the number of unofficial languages, from high to low."
   ]
  },
  {
   "cell_type": "code",
   "execution_count": null,
   "metadata": {},
   "outputs": [],
   "source": [
    "PREFIX rdf: <http://www.w3.org/1999/02/22-rdf-syntax-ns#>\n",
    "PREFIX dbr: <http://dbpedia.org/resource/>\n",
    "PREFIX dbo: <http://dbpedia.org/ontology/>\n",
    "SELECT ?country (COUNT(?spokenIn) AS ?numLanguages)\n",
    "     WHERE {\n",
    "         ?country rdf:type dbo:Country .\n",
    "         {?spokenIn dbo:spokenIn ?country .}\n",
    "         MINUS{?country dbo:officialLanguage ?officialLanguage .}\n",
    "}ORDER BY DESC(?numLanguages)"
   ]
  },
  {
   "cell_type": "markdown",
   "metadata": {},
   "source": [
    "### - Task 7: (1 Point) SPARQL \n",
    "\n",
    "Write a SPARQL query which returns all relationship(s) between the series \"The Office (UK)\" and the actor \"Ricky Gervais\" (literally).\n",
    "\n",
    "Be careful to check for relations in both directions (but not necessarily the same relation in both directions).  \n",
    "\n",
    "Use Yasgui to design the correct SPARQL query, and copy paste it in the cell below. "
   ]
  },
  {
   "cell_type": "code",
   "execution_count": null,
   "metadata": {},
   "outputs": [],
   "source": [
    "# Add here the SPARQL query (not Python) code. (copy & paste from Yasgui)\n",
    "# When executing against Yasgui you should get an answer. \n",
    "# Don't worry that executing this cell will return an error message (a SPARQL query is not a Python code, so it should give an error message here)."
   ]
  },
  {
   "cell_type": "code",
   "execution_count": null,
   "metadata": {},
   "outputs": [],
   "source": [
    "PREFIX rdf: <http://www.w3.org/1999/02/22-rdf-syntax-ns#>\n",
    "PREFIX dbr: <http://dbpedia.org/resource/>\n",
    "PREFIX dbo: <http://dbpedia.org/ontology/>\n",
    "SELECT DISTINCT ?p\n",
    "\tWHERE {\n",
    "  {dbr:Ricky_Gervais ?p dbr:The_Office_\\(UK_TV_series\\)}\n",
    "  {dbr:The_Office_\\(UK_TV_series\\) ?p dbr:Ricky_Gervais}\n",
    "\t}"
   ]
  }
 ],
 "metadata": {
  "kernelspec": {
   "display_name": "Python 3",
   "language": "python",
   "name": "python3"
  },
  "language_info": {
   "codemirror_mode": {
    "name": "ipython",
    "version": 3
   },
   "file_extension": ".py",
   "mimetype": "text/x-python",
   "name": "python",
   "nbconvert_exporter": "python",
   "pygments_lexer": "ipython3",
   "version": "3.9.0"
  }
 },
 "nbformat": 4,
 "nbformat_minor": 4
}
