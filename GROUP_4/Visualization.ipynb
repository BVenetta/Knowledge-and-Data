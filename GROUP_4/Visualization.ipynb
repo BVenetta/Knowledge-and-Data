{
 "cells": [
  {
   "cell_type": "markdown",
   "metadata": {},
   "source": [
    "This notebook contains the code needed to transform a product's rating into a pie chart. The rating is a score out of 5. The piechart presents the rating in the form of a percentage meaning the value of the rating is calculated as a percentage of the max value 5. The name of the product you're looking at can be seen in the pie chart. Make sure your repository is called KD-Project and that skincare_ontology.ttl is imported in GraphDB. "
   ]
  },
  {
   "cell_type": "code",
   "execution_count": 1,
   "metadata": {},
   "outputs": [],
   "source": [
    "%load_ext ipython_sparql_pandas"
   ]
  },
  {
   "cell_type": "markdown",
   "metadata": {},
   "source": [
    "The following query is used to obtain the rating of the product. If you want to create a pie chart yourself, replace the name of the product between \" \" with the name of the product you want to see the rating of. NOTE: the name should be the exact same as the name when the product is presented to you in the recommendation engine. "
   ]
  },
  {
   "cell_type": "code",
   "execution_count": 2,
   "metadata": {},
   "outputs": [
    {
     "data": {
      "text/html": [
       "<div>\n",
       "<style scoped>\n",
       "    .dataframe tbody tr th:only-of-type {\n",
       "        vertical-align: middle;\n",
       "    }\n",
       "\n",
       "    .dataframe tbody tr th {\n",
       "        vertical-align: top;\n",
       "    }\n",
       "\n",
       "    .dataframe thead th {\n",
       "        text-align: right;\n",
       "    }\n",
       "</style>\n",
       "<table border=\"1\" class=\"dataframe\">\n",
       "  <thead>\n",
       "    <tr style=\"text-align: right;\">\n",
       "      <th></th>\n",
       "      <th>product</th>\n",
       "      <th>name</th>\n",
       "      <th>rating</th>\n",
       "    </tr>\n",
       "  </thead>\n",
       "  <tbody>\n",
       "    <tr>\n",
       "      <th>0</th>\n",
       "      <td>http://www.semanticweb.org/skincare/Ibuki%20So...</td>\n",
       "      <td>Ibuki Softening Concentrate</td>\n",
       "      <td>4.4</td>\n",
       "    </tr>\n",
       "  </tbody>\n",
       "</table>\n",
       "</div>"
      ],
      "text/plain": [
       "                                             product  \\\n",
       "0  http://www.semanticweb.org/skincare/Ibuki%20So...   \n",
       "\n",
       "                          name  rating  \n",
       "0  Ibuki Softening Concentrate     4.4  "
      ]
     },
     "execution_count": 2,
     "metadata": {},
     "output_type": "execute_result"
    }
   ],
   "source": [
    "%%sparql http://localhost:7200/repositories/KD-Project -s rating\n",
    "PREFIX rdf: <http://www.w3.org/1999/02/22-rdf-syntax-ns#>\n",
    "PREFIX skincare: <http://www.semanticweb.org/skincare/>\n",
    "PREFIX rdfs: <http://www.w3.org/2000/01/rdf-schema#>\n",
    "PREFIX owl: <http://www.w3.org/2002/07/owl#>\n",
    "\n",
    "SELECT DISTINCT * WHERE{  \n",
    "    ?product skincare:hasName \"Ibuki Softening Concentrate\"@en; #change the name in case you want to visualize the rating of a different product\n",
    "        skincare:hasName ?name;\n",
    "        skincare:hasRating ?rating .\n",
    "}"
   ]
  },
  {
   "cell_type": "code",
   "execution_count": 3,
   "metadata": {},
   "outputs": [
    {
     "data": {
      "image/png": "[encoded data removed]",
      "text/plain": [
       "<Figure size 288x288 with 1 Axes>"
      ]
     },
     "metadata": {},
     "output_type": "display_data"
    }
   ],
   "source": [
    "rating.set_index(\"name\", inplace=True)\n",
    "(rating[\"rating\"]/5).plot.pie(\n",
    "    normalize=False, \n",
    "    colors=[\"g\"],\n",
    "    autopct=\"%.1f\",\n",
    "    fontsize=15,\n",
    "    figsize=(4, 4),\n",
    ");"
   ]
  },
  {
   "cell_type": "markdown",
   "metadata": {},
   "source": [
    "The following lines of code will present the number of products available in the application per brand in a certain category (e.g. Moisturizers), using the filters price and rating. The visualization is in the form of a horizontal bar chart. If you want to see the number of products within another range, simply adjust the integer and float in the FILTER for price and rating. In case you want to look at another type of product, change Moisturizer to the type of your liking. The types of products are: Cleanser, Eye_cream, Face_Mask, Moisturizer, Sun_Protection, and Treatment. Follow the comments in the query for more instructions."
   ]
  },
  {
   "cell_type": "code",
   "execution_count": 4,
   "metadata": {},
   "outputs": [
    {
     "data": {
      "text/html": [
       "<div>\n",
       "<style scoped>\n",
       "    .dataframe tbody tr th:only-of-type {\n",
       "        vertical-align: middle;\n",
       "    }\n",
       "\n",
       "    .dataframe tbody tr th {\n",
       "        vertical-align: top;\n",
       "    }\n",
       "\n",
       "    .dataframe thead th {\n",
       "        text-align: right;\n",
       "    }\n",
       "</style>\n",
       "<table border=\"1\" class=\"dataframe\">\n",
       "  <thead>\n",
       "    <tr style=\"text-align: right;\">\n",
       "      <th></th>\n",
       "      <th>brand</th>\n",
       "      <th>numberOfProducts</th>\n",
       "    </tr>\n",
       "  </thead>\n",
       "  <tbody>\n",
       "    <tr>\n",
       "      <th>0</th>\n",
       "      <td>http://www.semanticweb.org/skincare/FIRST%20AI...</td>\n",
       "      <td>1</td>\n",
       "    </tr>\n",
       "    <tr>\n",
       "      <th>1</th>\n",
       "      <td>http://www.semanticweb.org/skincare/BELIF</td>\n",
       "      <td>2</td>\n",
       "    </tr>\n",
       "    <tr>\n",
       "      <th>2</th>\n",
       "      <td>http://www.semanticweb.org/skincare/HERBIVORE</td>\n",
       "      <td>1</td>\n",
       "    </tr>\n",
       "    <tr>\n",
       "      <th>3</th>\n",
       "      <td>http://www.semanticweb.org/skincare/SON%20%26%...</td>\n",
       "      <td>1</td>\n",
       "    </tr>\n",
       "    <tr>\n",
       "      <th>4</th>\n",
       "      <td>http://www.semanticweb.org/skincare/OLEHENRIKSEN</td>\n",
       "      <td>1</td>\n",
       "    </tr>\n",
       "    <tr>\n",
       "      <th>5</th>\n",
       "      <td>http://www.semanticweb.org/skincare/Dr.%20Jart%2B</td>\n",
       "      <td>1</td>\n",
       "    </tr>\n",
       "    <tr>\n",
       "      <th>6</th>\n",
       "      <td>http://www.semanticweb.org/skincare/Laneige</td>\n",
       "      <td>3</td>\n",
       "    </tr>\n",
       "    <tr>\n",
       "      <th>7</th>\n",
       "      <td>http://www.semanticweb.org/skincare/Shiseido</td>\n",
       "      <td>1</td>\n",
       "    </tr>\n",
       "    <tr>\n",
       "      <th>8</th>\n",
       "      <td>http://www.semanticweb.org/skincare/Kiehl%27s</td>\n",
       "      <td>2</td>\n",
       "    </tr>\n",
       "    <tr>\n",
       "      <th>9</th>\n",
       "      <td>http://www.semanticweb.org/skincare/FRESH</td>\n",
       "      <td>1</td>\n",
       "    </tr>\n",
       "    <tr>\n",
       "      <th>10</th>\n",
       "      <td>http://www.semanticweb.org/skincare/YOUTH%20TO...</td>\n",
       "      <td>1</td>\n",
       "    </tr>\n",
       "    <tr>\n",
       "      <th>11</th>\n",
       "      <td>http://www.semanticweb.org/skincare/REN%20CLEA...</td>\n",
       "      <td>1</td>\n",
       "    </tr>\n",
       "    <tr>\n",
       "      <th>12</th>\n",
       "      <td>http://www.semanticweb.org/skincare/Clinique</td>\n",
       "      <td>1</td>\n",
       "    </tr>\n",
       "    <tr>\n",
       "      <th>13</th>\n",
       "      <td>http://www.semanticweb.org/skincare/SATURDAY%2...</td>\n",
       "      <td>2</td>\n",
       "    </tr>\n",
       "    <tr>\n",
       "      <th>14</th>\n",
       "      <td>http://www.semanticweb.org/skincare/LANCÔME</td>\n",
       "      <td>1</td>\n",
       "    </tr>\n",
       "    <tr>\n",
       "      <th>15</th>\n",
       "      <td>http://www.semanticweb.org/skincare/GO-TO</td>\n",
       "      <td>1</td>\n",
       "    </tr>\n",
       "  </tbody>\n",
       "</table>\n",
       "</div>"
      ],
      "text/plain": [
       "                                                brand  numberOfProducts\n",
       "0   http://www.semanticweb.org/skincare/FIRST%20AI...                 1\n",
       "1           http://www.semanticweb.org/skincare/BELIF                 2\n",
       "2       http://www.semanticweb.org/skincare/HERBIVORE                 1\n",
       "3   http://www.semanticweb.org/skincare/SON%20%26%...                 1\n",
       "4    http://www.semanticweb.org/skincare/OLEHENRIKSEN                 1\n",
       "5   http://www.semanticweb.org/skincare/Dr.%20Jart%2B                 1\n",
       "6         http://www.semanticweb.org/skincare/Laneige                 3\n",
       "7        http://www.semanticweb.org/skincare/Shiseido                 1\n",
       "8       http://www.semanticweb.org/skincare/Kiehl%27s                 2\n",
       "9           http://www.semanticweb.org/skincare/FRESH                 1\n",
       "10  http://www.semanticweb.org/skincare/YOUTH%20TO...                 1\n",
       "11  http://www.semanticweb.org/skincare/REN%20CLEA...                 1\n",
       "12       http://www.semanticweb.org/skincare/Clinique                 1\n",
       "13  http://www.semanticweb.org/skincare/SATURDAY%2...                 2\n",
       "14        http://www.semanticweb.org/skincare/LANCÔME                 1\n",
       "15          http://www.semanticweb.org/skincare/GO-TO                 1"
      ]
     },
     "execution_count": 4,
     "metadata": {},
     "output_type": "execute_result"
    }
   ],
   "source": [
    "%%sparql http://localhost:7200/repositories/KD-Project -s products\n",
    "PREFIX rdf: <http://www.w3.org/1999/02/22-rdf-syntax-ns#>\n",
    "PREFIX skincare: <http://www.semanticweb.org/skincare/>\n",
    "\n",
    "SELECT ?brand (COUNT(*) as ?numberOfProducts) {\n",
    "    ?brand skincare:isBrandOf ?product.\n",
    "    ?product a skincare:Moisturizer. #you can replace Moisturize by the type of your liking. If no preference, delete this line\n",
    "    ?product skincare:hasPrice ?price;\n",
    "        skincare:hasRating ?rating.\n",
    "    FILTER(?price < 50 && ?rating > 4.5) #replace the numbers to your liking\n",
    "} GROUP BY ?brand"
   ]
  },
  {
   "cell_type": "code",
   "execution_count": 5,
   "metadata": {},
   "outputs": [
    {
     "data": {
      "text/plain": [
       "<AxesSubplot:>"
      ]
     },
     "execution_count": 5,
     "metadata": {},
     "output_type": "execute_result"
    },
    {
     "data": {
      "image/png": "[encoded data removed]",
      "text/plain": [
       "<Figure size 432x288 with 1 Axes>"
      ]
     },
     "metadata": {
      "needs_background": "light"
     },
     "output_type": "display_data"
    }
   ],
   "source": [
    "products['numberOfProducts'].plot.barh()"
   ]
  },
  {
   "cell_type": "code",
   "execution_count": null,
   "metadata": {},
   "outputs": [],
   "source": []
  }
 ],
 "metadata": {
  "kernelspec": {
   "display_name": "Python 3",
   "language": "python",
   "name": "python3"
  },
  "language_info": {
   "codemirror_mode": {
    "name": "ipython",
    "version": 3
   },
   "file_extension": ".py",
   "mimetype": "text/x-python",
   "name": "python",
   "nbconvert_exporter": "python",
   "pygments_lexer": "ipython3",
   "version": "3.8.5"
  }
 },
 "nbformat": 4,
 "nbformat_minor": 4
}
